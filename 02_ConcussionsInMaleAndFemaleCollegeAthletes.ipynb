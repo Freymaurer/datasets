
        {
            "cells": [
          {
           "cell_type": "markdown",
           "metadata": {},
           
           "source": ["// can\u0027t yet format YamlFrontmatter ([\"title: Concussions in male and female college athletes\"; \"category: Datasets\"; \"categoryindex: 1\"; \"index: 2\"], Some { StartLine = 2 StartColumn = 0 EndLine = 6 EndColumn = 8 }) to pynb markdown\n",
"\n",
"[![Binder](/datasets/img/badge-binder.svg)](https://mybinder.org/v2/gh/plotly/Plotly.NET/gh-pages?filepath=02_ConcussionsInMaleAndFemaleCollegeAthletes.ipynb)\u0026emsp;\n",
"[![Script](/datasets/img/badge-script.svg)](/datasets/02_ConcussionsInMaleAndFemaleCollegeAthletes.fsx)\u0026emsp;\n",
"[![Notebook](/datasets/img/badge-notebook.svg)](/datasets/02_ConcussionsInMaleAndFemaleCollegeAthletes.ipynb)\n",
"\n",
"# The _concussions in male and female college athletes_ dataset\n",
"\n",
"**Table of contents**\n",
"\n",
"- [Description]()\n",
"- [How to use]()\n",
"- [Examples]()\n",
"\n",
"## Description\n",
"\n",
"Counts of Concussions among collegiate athletes in 5 sports for 3 years by gender.\n",
"Taken from [Lawrence H. Winner, University of Florida](http://archived.stat.ufl.edu/personnel/usrpages/winner.shtml):\n",
"- [Data](http://users.stat.ufl.edu/~winner/data/concussion.dat)\n",
"- [Description](http://users.stat.ufl.edu/~winner/data/psycparole.txt)\n",
"\n",
"Original literature: T. Covassin, C.B. Swanik, M.L. Sachs (2003). \"Sex Differences and the Incidence of Concussions Among Collegiate Athletes\", Journal of Athletic Training, Vol. (38)3, pp238-244\n",
"\n",
"\n",
"## How to use\n",
"\n",
"\n"]
          }
,
          {
           "cell_type": "code",
           "metadata": {},
            "execution_count": 1, "outputs": [
          {
           "data": {
            "text/plain": [""]
        },
           "execution_count": 1,
           "metadata": {},
           "output_type": "execute_result"
          }], 
           "source": ["#r \"nuget: FSharp.Data\"\n",
"#r \"nuget: Deedle\"\n",
"\n",
"open FSharp.Data\n",
"open Deedle\n",
"open System.Text.RegularExpressions\n",
"\n",
"let rawData = Http.RequestString @\"https://raw.githubusercontent.com/fslaborg/datasets/main/data/ConcussionsInMaleAndFemaleCollegeAthletes.dat\"\n",
"\n",
"// This data format features a char column-wise structure. To transform it into a seperator-delimited format, we have to replace the multiple spaces via Regex:\n",
"let regex = Regex(\"[ ]{2,}\")\n",
"let rawDataAdapted = regex.Replace(rawData, \"\\t\")\n",
"\n",
"let dataFrame = Frame.ReadCsvString(rawDataAdapted, hasHeaders = false, separators = \"\\t\", schema = \"Gender, Sports, Year, Concussion, Count\")\n",
"\n",
"// Otherwise, the following already adapted dataset can be used:\n",
"let rawData2 = Http.RequestString @\"https://raw.githubusercontent.com/fslaborg/datasets/main/data/ConcussionsInMaleAndFemaleCollegeAthletes_Adapted.tsv\"\n",
"\n",
"let dataFrame2 = Frame.ReadCsvString(rawData2, hasHeaders = false, separators = \"\\t\", schema = \"Gender, Sports, Year, Concussion, Count\")\n",
"\n",
"dataFrame2.Print()\n"]
          }
,
          {
           "cell_type": "markdown",
           "metadata": {},
           
           "source": ["## Examples\n",
"\n",
"This example is taken from the FsLab datascience tutorial [t-test]()\n",
"(WIP)\n",
"\n",
"\n"]
          }
,
          {
           "cell_type": "code",
           "metadata": {},
            "execution_count": 2, "outputs": [], 
           "source": ["#r \"nuget: FSharp.Stats, 0.4.2\"\n",
"#r \"nuget: Plotly.NET, 2.0.0-preview6\"\n",
"\n",
"open FSharp.Stats\n",
"open FSharp.Stats.Testing\n",
"open Plotly.NET\n",
"\n",
"// We need to filter out the columns and rows we don\u0027t need. Thus, we filter out the rows where the athletes suffered no concussions as well as filter out the columns without the number of concussions.\n",
"let dataAthletesFemale, dataAthletesMale =\n",
"    let getAthleteGenderData gender =\n",
"        let dataAthletesOnlyConcussion =\n",
"            dataAthletesAsFrame\n",
"            |\u003e Frame.filterRows (fun r objS -\u003e objS.GetAs \"Concussion\")\n",
"        let dataAthletesGenderFrame =\n",
"            dataAthletesOnlyConcussion\n",
"            |\u003e Frame.filterRows (fun r objS -\u003e objS.GetAs \"Gender\" = gender)\n",
"        dataAthletesGenderFrame\n",
"        |\u003e Frame.getCol \"Count\" \n",
"        |\u003e Series.values\n",
"        |\u003e vector\n",
"    getAthleteGenderData \"Female\", getAthleteGenderData \"Male\"\n",
"\n",
"let boxPlot = \n",
"    [\n",
"        Chart.BoxPlot(y = dataAthletesFemale, Name = \"female college athletes\", Boxpoints = StyleParam.Boxpoints.All, Jitter = 0.2)\n",
"        Chart.BoxPlot(y = dataAthletesMale, Name = \"male college athletes\", Boxpoints = StyleParam.Boxpoints.All, Jitter = 0.2)\n",
"    ]\n",
"    |\u003e Chart.Combine\n",
"    |\u003e Chart.withY_AxisStyle \"number of concussions over 3 years\"\n"]
          }
,
          {
           "cell_type": "code",
           "metadata": {},
            "execution_count": null, "outputs": [
          {
           "data": {
            "text/plain": ["No value returned by any evaluator"]
        },
           "execution_count": null,
           "metadata": {},
           "output_type": "execute_result"
          }], 
           "source": ["boxPlot\n"]
          }
,
          {
           "cell_type": "code",
           "metadata": {},
            "execution_count": 4, "outputs": [
          {
           "data": {
            "text/plain": ["No value returned by any evaluator"]
        },
           "execution_count": 4,
           "metadata": {},
           "output_type": "execute_result"
          }], 
           "source": ["open FSharp.Stats.Testing\n",
"\n",
"// We test both samples against each other, assuming equal variances.\n",
"let twoSampleResult = TTest.twoSample true dataAthletesFemale dataAthletesMale\n"]
          }],
            "metadata": {
            "kernelspec": {"display_name": ".NET (F#)", "language": "F#", "name": ".net-fsharp"},
            "langauge_info": {
        "file_extension": ".fs",
        "mimetype": "text/x-fsharp",
        "name": "C#",
        "pygments_lexer": "fsharp",
        "version": "4.5"
        }
        },
            "nbformat": 4,
            "nbformat_minor": 1
        }
        

