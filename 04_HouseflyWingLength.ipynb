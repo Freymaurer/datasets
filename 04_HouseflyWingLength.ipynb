
        {
            "cells": [
          {
           "cell_type": "markdown",
           "metadata": {},
           
           "source": ["// can\u0027t yet format YamlFrontmatter ([\"title: Housefly wing length\"; \"category: Datasets\"; \"categoryindex: 1\"; \"index: 4\"], Some { StartLine = 2 StartColumn = 0 EndLine = 6 EndColumn = 8 }) to pynb markdown\n",
"\n",
"[![Binder](/datasets/img/badge-binder.svg)](https://mybinder.org/v2/gh/plotly/Plotly.NET/gh-pages?filepath=04_HouseflyWingLength.ipynb)\u0026emsp;\n",
"[![Script](/datasets/img/badge-script.svg)](/datasets/04_HouseflyWingLength.fsx)\u0026emsp;\n",
"[![Notebook](/datasets/img/badge-notebook.svg)](/datasets/04_HouseflyWingLength.ipynb)\n",
"\n",
"# The _housefly wing length_ dataset\n",
"\n",
"**Table of contents**\n",
"\n",
"- [Description]()\n",
"- [How to use]()\n",
"- [Examples]()\n",
"\n",
"## Description\n",
"\n",
"Measured wing lengths of 100 houseflies in mm * 10^1.\n",
"Taken from https://seattlecentral.edu/qelp/sets/057/057.html\n",
"\n",
"Original literature: Sokal, R.R. and P.E. Hunter. 1955. _A morphometric analysis of DDT-resistant and non-resistant housefly strains_ Ann. Entomol. Soc. Amer. 48: 499-507.\n",
"\n",
"\n",
"## How to use\n",
"\n",
"\n"]
          }
,
          {
           "cell_type": "code",
           "metadata": {},
            "execution_count": 1, "outputs": [
          {
           "data": {
            "text/plain": ["wing length (mm * 10^1) ",
"0  -\u003e 36                      ",
"1  -\u003e 37                      ",
"2  -\u003e 38                      ",
"3  -\u003e 38                      ",
"4  -\u003e 39                      ",
"5  -\u003e 39                      ",
"6  -\u003e 40                      ",
"7  -\u003e 40                      ",
"8  -\u003e 40                      ",
"9  -\u003e 40                      ",
"10 -\u003e 41                      ",
"11 -\u003e 41                      ",
"12 -\u003e 41                      ",
"13 -\u003e 41                      ",
"14 -\u003e 41                      ",
":     ...                     ",
"85 -\u003e 50                      ",
"86 -\u003e 50                      ",
"87 -\u003e 50                      ",
"88 -\u003e 50                      ",
"89 -\u003e 50                      ",
"90 -\u003e 51                      ",
"91 -\u003e 51                      ",
"92 -\u003e 51                      ",
"93 -\u003e 51                      ",
"94 -\u003e 52                      ",
"95 -\u003e 52                      ",
"96 -\u003e 53                      ",
"97 -\u003e 53                      ",
"98 -\u003e 54                      ",
"99 -\u003e 55"]
        },
           "execution_count": 1,
           "metadata": {},
           "output_type": "execute_result"
          }], 
           "source": ["#r \"nuget: FSharp.Data\"\n",
"#r \"nuget: Deedle\"\n",
"\n",
"open FSharp.Data\n",
"open Deedle\n",
"\n",
"let rawData = Http.RequestString @\"https://raw.githubusercontent.com/fslaborg/datasets/main/data/HouseflyWingLength.txt\"\n",
"\n",
"let dataFrame = Frame.ReadCsvString(rawData, hasHeaders = false, schema = \"wing length (mm * 10^1)\")\n",
"\n",
"dataFrame.Print()\n"]
          }
,
          {
           "cell_type": "markdown",
           "metadata": {},
           
           "source": ["## Examples\n",
"\n",
"This example is taken from the FsLab datascience tutorial [t-test]()\n",
"(WIP)\n",
"\n",
"\n"]
          }
,
          {
           "cell_type": "code",
           "metadata": {},
            "execution_count": 2, "outputs": [], 
           "source": ["#r \"nuget: FSharp.Stats, 0.4.2\"\n",
"#r \"nuget: Plotly.NET, 2.0.0-preview6\"\n",
"\n",
"open FSharp.Stats\n",
"open FSharp.Stats.Testing\n",
"open Plotly.NET\n",
"\n",
"let boxPlot = \n",
"    Chart.BoxPlot(y = dataHousefly, Name = \"housefly\", Boxpoints = StyleParam.Boxpoints.All, Jitter = 0.2)\n",
"    |\u003e Chart.withY_AxisStyle \"wing length [mm]\"\n"]
          }
,
          {
           "cell_type": "code",
           "metadata": {},
            "execution_count": null, "outputs": [
          {
           "data": {
            "text/plain": ["No value returned by any evaluator"]
        },
           "execution_count": null,
           "metadata": {},
           "output_type": "execute_result"
          }], 
           "source": ["boxPlot\n"]
          }
,
          {
           "cell_type": "code",
           "metadata": {},
            "execution_count": 4, "outputs": [
          {
           "data": {
            "text/plain": ["No value returned by any evaluator"]
        },
           "execution_count": 4,
           "metadata": {},
           "output_type": "execute_result"
          }], 
           "source": ["// The testing module in FSharp.Stats require vectors as input types, thus we transform our array into a vector:\n",
"let vectorDataHousefly = vector dataHousefly\n",
"\n",
"// The expected value of our population.\n",
"let expectedValue = 45.\n",
"\n",
"// Perform the one-sample t-test with our vectorized data and our exptected value as parameters.\n",
"let oneSampleResult = TTest.oneSample vectorDataHousefly expectedValue\n"]
          }],
            "metadata": {
            "kernelspec": {"display_name": ".NET (F#)", "language": "F#", "name": ".net-fsharp"},
            "langauge_info": {
        "file_extension": ".fs",
        "mimetype": "text/x-fsharp",
        "name": "C#",
        "pygments_lexer": "fsharp",
        "version": "4.5"
        }
        },
            "nbformat": 4,
            "nbformat_minor": 1
        }
        

