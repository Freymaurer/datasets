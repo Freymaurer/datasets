
        {
            "cells": [
          {
           "cell_type": "markdown",
           "metadata": {},
           
           "source": ["// can\u0027t yet format YamlFrontmatter ([\"title: Caffeine and endurance\"; \"category: Datasets\"; \"categoryindex: 1\"; \"index: 3\"], Some { StartLine = 2 StartColumn = 0 EndLine = 6 EndColumn = 8 }) to pynb markdown\n",
"\n",
"[![Binder](/datasets/img/badge-binder.svg)](https://mybinder.org/v2/gh/plotly/Plotly.NET/gh-pages?filepath=03_CaffeineAndEndurance.ipynb)\u0026emsp;\n",
"[![Script](/datasets/img/badge-script.svg)](/datasets/03_CaffeineAndEndurance.fsx)\u0026emsp;\n",
"[![Notebook](/datasets/img/badge-notebook.svg)](/datasets/03_CaffeineAndEndurance.ipynb)\n",
"\n",
"# The _caffeine and endurance_ dataset\n",
"\n",
"**Table of contents**\n",
"\n",
"- [Description]()\n",
"- [How to use]()\n",
"- [Examples]()\n",
"\n",
"## Description\n",
"\n",
"Endurance times for 9 well-trained cyclists, on each of 4 doses of caffeine (0, 5, 9, 13 mg) with 1 line per subject.\n",
"Taken from [Lawrence H. Winner, University of Florida](http://archived.stat.ufl.edu/personnel/usrpages/winner.shtml):\n",
"- [Data](http://users.stat.ufl.edu/~winner/data/caffeine1.dat)\n",
"- [Description](http://users.stat.ufl.edu/~winner/data/caffeine1.txt)\n",
"\n",
"Original literature: W.J. Pasman, M.A. van Baak, A.E. Jeukendrup, A. de Haan (1995). _The Effect of Different Dosages of Caffeine on Endurance Performance Time_, International Journal of Sports Medicine, Vol. 16, pp225-230.\n",
"\n",
"\n",
"## How to use\n",
"\n",
"\n"]
          }
,
          {
           "cell_type": "code",
           "metadata": {},
            "execution_count": 1, "outputs": [
          {
           "data": {
            "text/plain": [""]
        },
           "execution_count": 1,
           "metadata": {},
           "output_type": "execute_result"
          }], 
           "source": ["#r \"nuget: FSharp.Data\"\n",
"#r \"nuget: Deedle\"\n",
"\n",
"open FSharp.Data\n",
"open Deedle\n",
"open System.Text.RegularExpressions\n",
"\n",
"let rawDataCaffeine = Http.RequestString @\"https://raw.githubusercontent.com/fslaborg/datasets/main/data/CaffeineAndEndurance(wide).dat\"\n",
"// This data format features a char column-wise structure. To transform it into a seperator-delimited format, we have to replace the multiple spaces via Regex:\n",
"let regexCaffeine = [Regex(\"[ ]{2,}1\"), \"1\"; Regex(\"[ ]{2,}\"), \"\\t\"; Regex(\"\\n\\t\"), \"\\n\"]\n",
"let rawDataCaffeineAdapted = \n",
"    regexCaffeine\n",
"    |\u003e List.fold (fun acc (reg,rep) -\u003e reg.Replace(acc, rep)) rawDataCaffeine\n",
"\n",
"let dataFrame = Frame.ReadCsvString(rawDataAdapted, hasHeaders = false, separators = \"\\t\", schema = \"Subject ID, no Dose, 5 mg, 9 mg, 13 mg\")\n",
"\n",
"// Otherwise, the following already adapted dataset can be used:\n",
"let rawData2 = Http.RequestString @\"https://raw.githubusercontent.com/fslaborg/datasets/main/data/CaffeineAndEndurance(wide)_adapted.tsv\"\n",
"\n",
"let dataFrame2 = Frame.ReadCsvString(rawData2, hasHeaders = false, separators = \"\\t\", schema = \"Subject ID, no Dose, 5 mg, 9 mg, 13 mg\")\n",
"\n",
"dataFrame2.Print()\n"]
          }
,
          {
           "cell_type": "markdown",
           "metadata": {},
           
           "source": ["## Examples\n",
"\n",
"This example is taken from the FsLab datascience tutorial [t-test]()\n",
"(WIP)\n",
"\n",
"\n"]
          }
,
          {
           "cell_type": "code",
           "metadata": {},
            "execution_count": 2, "outputs": [], 
           "source": ["#r \"nuget: FSharp.Stats, 0.4.2\"\n",
"#r \"nuget: Plotly.NET, 2.0.0-preview6\"\n",
"\n",
"open FSharp.Stats\n",
"open FSharp.Stats.Testing\n",
"open Plotly.NET\n",
"\n",
"// We want to compare the subjects\u0027 performances under the influence of 13 mg caffeine and in the control situation.\n",
"let dataCaffeineNoDose, dataCaffeine13mg =\n",
"    let getVectorFromCol col = \n",
"        dataCaffeineAsFrame\n",
"        |\u003e Frame.getCol col\n",
"        |\u003e Series.values\n",
"        |\u003e vector\n",
"    getVectorFromCol \"no Dose\", getVectorFromCol \"13 mg\"\n",
"\n",
"// \n",
"let visualizePairedData = \n",
"    Seq.zip dataCaffeineNoDose dataCaffeine13mg\n",
"    |\u003e Seq.mapi (fun i (control,treatment) -\u003e \n",
"        let participant = \"Person \" + string i \n",
"        Chart.Line([\"no dose\", control; \"13 mg\", treatment], Name = participant)\n",
"        )\n",
"    |\u003e Chart.Combine\n",
"    |\u003e Chart.withX_AxisStyle \"\"\n",
"    |\u003e Chart.withY_AxisStyle(\"endurance performance\", MinMax = (0.,100.))\n"]
          }
,
          {
           "cell_type": "code",
           "metadata": {},
            "execution_count": null, "outputs": [
          {
           "data": {
            "text/plain": ["No value returned by any evaluator"]
        },
           "execution_count": null,
           "metadata": {},
           "output_type": "execute_result"
          }], 
           "source": ["visualizePairedData\n"]
          }
,
          {
           "cell_type": "markdown",
           "metadata": {},
           
           "source": ["The function for pairwise t tests can be found at `FSharp.Stats.Testing.TTest.twoSamplePaired`. Note, that the order of the elements in each vector must be the same, so a pairwise comparison\n",
"can be performed.\n",
"\n",
"\n",
"\n"]
          }
,
          {
           "cell_type": "code",
           "metadata": {},
            "execution_count": 4, "outputs": [
          {
           "data": {
            "text/plain": ["No value returned by any evaluator"]
        },
           "execution_count": 4,
           "metadata": {},
           "output_type": "execute_result"
          }], 
           "source": ["let twoSamplePairedResult = TTest.twoSamplePaired dataCaffeineNoDose dataCaffeine13mg\n"]
          }],
            "metadata": {
            "kernelspec": {"display_name": ".NET (F#)", "language": "F#", "name": ".net-fsharp"},
            "langauge_info": {
        "file_extension": ".fs",
        "mimetype": "text/x-fsharp",
        "name": "C#",
        "pygments_lexer": "fsharp",
        "version": "4.5"
        }
        },
            "nbformat": 4,
            "nbformat_minor": 1
        }
        

